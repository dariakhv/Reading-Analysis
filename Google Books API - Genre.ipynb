{
 "cells": [
  {
   "cell_type": "markdown",
   "id": "3d293825",
   "metadata": {},
   "source": [
    "## This notebook uses Google Books API to fill in the missing information\n",
    "#### Book's genre is determined based on the ISBN 13 number from the Goodreads exported file."
   ]
  },
  {
   "cell_type": "code",
   "execution_count": 1,
   "id": "e1d914e4",
   "metadata": {},
   "outputs": [],
   "source": [
    "import pandas as pd\n",
    "import requests\n",
    "\n",
    "#import raw data - export from my GoodReads account\n",
    "reading_df = pd.read_csv('goodreads_library_export.csv')"
   ]
  },
  {
   "cell_type": "code",
   "execution_count": 2,
   "id": "c8a58591",
   "metadata": {},
   "outputs": [
    {
     "data": {
      "text/plain": [
       "False"
      ]
     },
     "execution_count": 2,
     "metadata": {},
     "output_type": "execute_result"
    }
   ],
   "source": [
    "# check if ISBN13 column has missing values\n",
    "reading_df['ISBN13'].isnull().values.any()"
   ]
  },
  {
   "cell_type": "markdown",
   "id": "46f2410f",
   "metadata": {},
   "source": [
    "#### Calling Google Books API to get each book's genre based on the ISBN 13 number"
   ]
  },
  {
   "cell_type": "code",
   "execution_count": 2,
   "id": "501d3dcc",
   "metadata": {},
   "outputs": [],
   "source": [
    "# this function retrieves the book genre for a given ISBN-13 using Google Books API\n",
    "\n",
    "def get_genre(isbn):\n",
    "    url = f'https://www.googleapis.com/books/v1/volumes?q=isbn:{isbn}'\n",
    "    response = requests.get(url)\n",
    "    if response.status_code ==200:\n",
    "        data = response.json()\n",
    "        if 'items' in data and len(data['items'])>0:\n",
    "            item = data['items'][0]\n",
    "            if 'volumeInfo' in item and 'categories' in item['volumeInfo']:\n",
    "                return item['volumeInfo']['categories']\n",
    "    return None\n",
    "\n",
    "reading_df['Genre'] = reading_df['ISBN13'].apply(get_genre)"
   ]
  },
  {
   "cell_type": "code",
   "execution_count": 3,
   "id": "66fe67b0",
   "metadata": {},
   "outputs": [],
   "source": [
    "reading_df['Genre'].isnull().sum()\n",
    "reading_df.to_csv('full_data.csv')"
   ]
  }
 ],
 "metadata": {
  "kernelspec": {
   "display_name": "Python 3 (ipykernel)",
   "language": "python",
   "name": "python3"
  },
  "language_info": {
   "codemirror_mode": {
    "name": "ipython",
    "version": 3
   },
   "file_extension": ".py",
   "mimetype": "text/x-python",
   "name": "python",
   "nbconvert_exporter": "python",
   "pygments_lexer": "ipython3",
   "version": "3.9.12"
  }
 },
 "nbformat": 4,
 "nbformat_minor": 5
}
